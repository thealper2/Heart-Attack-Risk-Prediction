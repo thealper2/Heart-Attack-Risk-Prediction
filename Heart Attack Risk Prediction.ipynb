{
 "cells": [
  {
   "cell_type": "code",
   "execution_count": 1,
   "id": "f40e2d8b",
   "metadata": {},
   "outputs": [],
   "source": [
    "import pandas as pd\n",
    "import numpy as np\n",
    "from sklearn.model_selection import train_test_split\n",
    "from sklearn.preprocessing import StandardScaler, LabelEncoder"
   ]
  },
  {
   "cell_type": "code",
   "execution_count": null,
   "id": "8719fa45",
   "metadata": {},
   "outputs": [],
   "source": [
    "import evalml"
   ]
  },
  {
   "cell_type": "code",
   "execution_count": 3,
   "id": "8c3516d6",
   "metadata": {},
   "outputs": [],
   "source": [
    "df = pd.read_csv(\"heart.csv\")"
   ]
  },
  {
   "cell_type": "code",
   "execution_count": 5,
   "id": "d7a30186",
   "metadata": {},
   "outputs": [],
   "source": [
    "le = LabelEncoder()\n",
    "df[\"output\"] = le.fit_transform(df[\"output\"])"
   ]
  },
  {
   "cell_type": "code",
   "execution_count": 6,
   "id": "d1e6bb3b",
   "metadata": {},
   "outputs": [],
   "source": [
    "X = df.drop([\"output\"], axis=1)"
   ]
  },
  {
   "cell_type": "code",
   "execution_count": 7,
   "id": "d4562149",
   "metadata": {},
   "outputs": [],
   "source": [
    "y = df[\"output\"].values"
   ]
  },
  {
   "cell_type": "code",
   "execution_count": 8,
   "id": "67cf9833",
   "metadata": {},
   "outputs": [],
   "source": [
    "X_train, X_test, y_train, y_test = evalml.preprocessing.split_data(X, y, problem_type=\"binary\")"
   ]
  },
  {
   "cell_type": "code",
   "execution_count": 9,
   "id": "93590418",
   "metadata": {},
   "outputs": [
    {
     "name": "stderr",
     "output_type": "stream",
     "text": [
      "\tHigh coefficient of variation (cv >= 0.5) within cross validation scores.\n",
      "\tDecision Tree Classifier w/ Label Encoder + Imputer + Select Columns Transformer may not perform as estimated on unseen data.\n"
     ]
    },
    {
     "data": {
      "text/plain": [
       "{1: {'Random Forest Classifier w/ Label Encoder + Imputer': 0.5398130416870117,\n",
       "  'Total time of batch': 0.6526226997375488},\n",
       " 2: {'Random Forest Classifier w/ Label Encoder + Imputer + RF Classifier Select From Model': 0.6403830051422119,\n",
       "  'Total time of batch': 0.7594921588897705},\n",
       " 3: {'Decision Tree Classifier w/ Label Encoder + Imputer + Select Columns Transformer': 0.33592867851257324,\n",
       "  'LightGBM Classifier w/ Label Encoder + Imputer + Select Columns Transformer': 0.3867180347442627,\n",
       "  'Extra Trees Classifier w/ Label Encoder + Imputer + Select Columns Transformer': 0.5492141246795654,\n",
       "  'Elastic Net Classifier w/ Label Encoder + Imputer + Standard Scaler + Select Columns Transformer': 0.4632742404937744,\n",
       "  'CatBoost Classifier w/ Label Encoder + Imputer + Select Columns Transformer': 0.5209269523620605,\n",
       "  'XGBoost Classifier w/ Label Encoder + Imputer + Select Columns Transformer': 0.39038515090942383,\n",
       "  'Logistic Regression Classifier w/ Label Encoder + Imputer + Standard Scaler + Select Columns Transformer': 1.4183287620544434,\n",
       "  'Total time of batch': 4.856289863586426}}"
      ]
     },
     "execution_count": 9,
     "metadata": {},
     "output_type": "execute_result"
    }
   ],
   "source": [
    "from evalml.automl import AutoMLSearch\n",
    "automl = AutoMLSearch(X_train=X_train, y_train=y_train, problem_type=\"binary\")\n",
    "automl.search()"
   ]
  },
  {
   "cell_type": "code",
   "execution_count": 10,
   "id": "0494b3ba",
   "metadata": {},
   "outputs": [
    {
     "data": {
      "text/html": [
       "<div>\n",
       "<style scoped>\n",
       "    .dataframe tbody tr th:only-of-type {\n",
       "        vertical-align: middle;\n",
       "    }\n",
       "\n",
       "    .dataframe tbody tr th {\n",
       "        vertical-align: top;\n",
       "    }\n",
       "\n",
       "    .dataframe thead th {\n",
       "        text-align: right;\n",
       "    }\n",
       "</style>\n",
       "<table border=\"1\" class=\"dataframe\">\n",
       "  <thead>\n",
       "    <tr style=\"text-align: right;\">\n",
       "      <th></th>\n",
       "      <th>id</th>\n",
       "      <th>pipeline_name</th>\n",
       "      <th>search_order</th>\n",
       "      <th>ranking_score</th>\n",
       "      <th>mean_cv_score</th>\n",
       "      <th>standard_deviation_cv_score</th>\n",
       "      <th>percent_better_than_baseline</th>\n",
       "      <th>high_variance_cv</th>\n",
       "      <th>parameters</th>\n",
       "    </tr>\n",
       "  </thead>\n",
       "  <tbody>\n",
       "    <tr>\n",
       "      <th>0</th>\n",
       "      <td>5</td>\n",
       "      <td>Extra Trees Classifier w/ Label Encoder + Impu...</td>\n",
       "      <td>5</td>\n",
       "      <td>0.413358</td>\n",
       "      <td>0.413358</td>\n",
       "      <td>0.029595</td>\n",
       "      <td>97.476877</td>\n",
       "      <td>False</td>\n",
       "      <td>{'Label Encoder': {'positive_label': None}, 'I...</td>\n",
       "    </tr>\n",
       "    <tr>\n",
       "      <th>1</th>\n",
       "      <td>1</td>\n",
       "      <td>Random Forest Classifier w/ Label Encoder + Im...</td>\n",
       "      <td>1</td>\n",
       "      <td>0.420733</td>\n",
       "      <td>0.420733</td>\n",
       "      <td>0.032101</td>\n",
       "      <td>97.431860</td>\n",
       "      <td>False</td>\n",
       "      <td>{'Label Encoder': {'positive_label': None}, 'I...</td>\n",
       "    </tr>\n",
       "    <tr>\n",
       "      <th>2</th>\n",
       "      <td>4</td>\n",
       "      <td>LightGBM Classifier w/ Label Encoder + Imputer...</td>\n",
       "      <td>4</td>\n",
       "      <td>0.462099</td>\n",
       "      <td>0.462099</td>\n",
       "      <td>0.066745</td>\n",
       "      <td>97.179366</td>\n",
       "      <td>False</td>\n",
       "      <td>{'Label Encoder': {'positive_label': None}, 'I...</td>\n",
       "    </tr>\n",
       "    <tr>\n",
       "      <th>3</th>\n",
       "      <td>2</td>\n",
       "      <td>Random Forest Classifier w/ Label Encoder + Im...</td>\n",
       "      <td>2</td>\n",
       "      <td>0.466758</td>\n",
       "      <td>0.466758</td>\n",
       "      <td>0.024267</td>\n",
       "      <td>97.150928</td>\n",
       "      <td>False</td>\n",
       "      <td>{'Label Encoder': {'positive_label': None}, 'I...</td>\n",
       "    </tr>\n",
       "    <tr>\n",
       "      <th>4</th>\n",
       "      <td>9</td>\n",
       "      <td>Logistic Regression Classifier w/ Label Encode...</td>\n",
       "      <td>9</td>\n",
       "      <td>0.469254</td>\n",
       "      <td>0.469254</td>\n",
       "      <td>0.074869</td>\n",
       "      <td>97.135689</td>\n",
       "      <td>False</td>\n",
       "      <td>{'Label Encoder': {'positive_label': None}, 'I...</td>\n",
       "    </tr>\n",
       "    <tr>\n",
       "      <th>5</th>\n",
       "      <td>6</td>\n",
       "      <td>Elastic Net Classifier w/ Label Encoder + Impu...</td>\n",
       "      <td>6</td>\n",
       "      <td>0.470037</td>\n",
       "      <td>0.470037</td>\n",
       "      <td>0.075389</td>\n",
       "      <td>97.130913</td>\n",
       "      <td>False</td>\n",
       "      <td>{'Label Encoder': {'positive_label': None}, 'I...</td>\n",
       "    </tr>\n",
       "    <tr>\n",
       "      <th>6</th>\n",
       "      <td>8</td>\n",
       "      <td>XGBoost Classifier w/ Label Encoder + Imputer ...</td>\n",
       "      <td>8</td>\n",
       "      <td>0.488356</td>\n",
       "      <td>0.488356</td>\n",
       "      <td>0.042491</td>\n",
       "      <td>97.019094</td>\n",
       "      <td>False</td>\n",
       "      <td>{'Label Encoder': {'positive_label': None}, 'I...</td>\n",
       "    </tr>\n",
       "    <tr>\n",
       "      <th>7</th>\n",
       "      <td>7</td>\n",
       "      <td>CatBoost Classifier w/ Label Encoder + Imputer...</td>\n",
       "      <td>7</td>\n",
       "      <td>0.638074</td>\n",
       "      <td>0.638074</td>\n",
       "      <td>0.006335</td>\n",
       "      <td>96.105220</td>\n",
       "      <td>False</td>\n",
       "      <td>{'Label Encoder': {'positive_label': None}, 'I...</td>\n",
       "    </tr>\n",
       "    <tr>\n",
       "      <th>8</th>\n",
       "      <td>3</td>\n",
       "      <td>Decision Tree Classifier w/ Label Encoder + Im...</td>\n",
       "      <td>3</td>\n",
       "      <td>6.703388</td>\n",
       "      <td>6.703388</td>\n",
       "      <td>2.507087</td>\n",
       "      <td>59.082784</td>\n",
       "      <td>True</td>\n",
       "      <td>{'Label Encoder': {'positive_label': None}, 'I...</td>\n",
       "    </tr>\n",
       "    <tr>\n",
       "      <th>9</th>\n",
       "      <td>0</td>\n",
       "      <td>Mode Baseline Binary Classification Pipeline</td>\n",
       "      <td>0</td>\n",
       "      <td>16.382805</td>\n",
       "      <td>16.382805</td>\n",
       "      <td>0.141301</td>\n",
       "      <td>0.000000</td>\n",
       "      <td>False</td>\n",
       "      <td>{'Label Encoder': {'positive_label': None}, 'B...</td>\n",
       "    </tr>\n",
       "  </tbody>\n",
       "</table>\n",
       "</div>"
      ],
      "text/plain": [
       "   id                                      pipeline_name  search_order  \\\n",
       "0   5  Extra Trees Classifier w/ Label Encoder + Impu...             5   \n",
       "1   1  Random Forest Classifier w/ Label Encoder + Im...             1   \n",
       "2   4  LightGBM Classifier w/ Label Encoder + Imputer...             4   \n",
       "3   2  Random Forest Classifier w/ Label Encoder + Im...             2   \n",
       "4   9  Logistic Regression Classifier w/ Label Encode...             9   \n",
       "5   6  Elastic Net Classifier w/ Label Encoder + Impu...             6   \n",
       "6   8  XGBoost Classifier w/ Label Encoder + Imputer ...             8   \n",
       "7   7  CatBoost Classifier w/ Label Encoder + Imputer...             7   \n",
       "8   3  Decision Tree Classifier w/ Label Encoder + Im...             3   \n",
       "9   0       Mode Baseline Binary Classification Pipeline             0   \n",
       "\n",
       "   ranking_score  mean_cv_score  standard_deviation_cv_score  \\\n",
       "0       0.413358       0.413358                     0.029595   \n",
       "1       0.420733       0.420733                     0.032101   \n",
       "2       0.462099       0.462099                     0.066745   \n",
       "3       0.466758       0.466758                     0.024267   \n",
       "4       0.469254       0.469254                     0.074869   \n",
       "5       0.470037       0.470037                     0.075389   \n",
       "6       0.488356       0.488356                     0.042491   \n",
       "7       0.638074       0.638074                     0.006335   \n",
       "8       6.703388       6.703388                     2.507087   \n",
       "9      16.382805      16.382805                     0.141301   \n",
       "\n",
       "   percent_better_than_baseline  high_variance_cv  \\\n",
       "0                     97.476877             False   \n",
       "1                     97.431860             False   \n",
       "2                     97.179366             False   \n",
       "3                     97.150928             False   \n",
       "4                     97.135689             False   \n",
       "5                     97.130913             False   \n",
       "6                     97.019094             False   \n",
       "7                     96.105220             False   \n",
       "8                     59.082784              True   \n",
       "9                      0.000000             False   \n",
       "\n",
       "                                          parameters  \n",
       "0  {'Label Encoder': {'positive_label': None}, 'I...  \n",
       "1  {'Label Encoder': {'positive_label': None}, 'I...  \n",
       "2  {'Label Encoder': {'positive_label': None}, 'I...  \n",
       "3  {'Label Encoder': {'positive_label': None}, 'I...  \n",
       "4  {'Label Encoder': {'positive_label': None}, 'I...  \n",
       "5  {'Label Encoder': {'positive_label': None}, 'I...  \n",
       "6  {'Label Encoder': {'positive_label': None}, 'I...  \n",
       "7  {'Label Encoder': {'positive_label': None}, 'I...  \n",
       "8  {'Label Encoder': {'positive_label': None}, 'I...  \n",
       "9  {'Label Encoder': {'positive_label': None}, 'B...  "
      ]
     },
     "execution_count": 10,
     "metadata": {},
     "output_type": "execute_result"
    }
   ],
   "source": [
    "automl.rankings"
   ]
  },
  {
   "cell_type": "code",
   "execution_count": 11,
   "id": "541dd430",
   "metadata": {},
   "outputs": [
    {
     "data": {
      "text/plain": [
       "pipeline = BinaryClassificationPipeline(component_graph={'Label Encoder': ['Label Encoder', 'X', 'y'], 'Imputer': ['Imputer', 'X', 'Label Encoder.y'], 'Select Columns Transformer': ['Select Columns Transformer', 'Imputer.x', 'Label Encoder.y'], 'Extra Trees Classifier': ['Extra Trees Classifier', 'Select Columns Transformer.x', 'Label Encoder.y']}, parameters={'Label Encoder':{'positive_label': None}, 'Imputer':{'categorical_impute_strategy': 'most_frequent', 'numeric_impute_strategy': 'mean', 'boolean_impute_strategy': 'most_frequent', 'categorical_fill_value': None, 'numeric_fill_value': None, 'boolean_fill_value': None}, 'Select Columns Transformer':{'columns': ['age', 'cp', 'thalachh', 'exng', 'oldpeak', 'caa', 'thall']}, 'Extra Trees Classifier':{'n_estimators': 100, 'max_features': 'auto', 'max_depth': 6, 'min_samples_split': 2, 'min_weight_fraction_leaf': 0.0, 'n_jobs': -1}}, random_seed=0)"
      ]
     },
     "execution_count": 11,
     "metadata": {},
     "output_type": "execute_result"
    }
   ],
   "source": [
    "automl.best_pipeline"
   ]
  },
  {
   "cell_type": "code",
   "execution_count": 12,
   "id": "2205408c",
   "metadata": {},
   "outputs": [],
   "source": [
    "pipeline = automl.best_pipeline"
   ]
  },
  {
   "cell_type": "code",
   "execution_count": 13,
   "id": "a2a56969",
   "metadata": {},
   "outputs": [
    {
     "name": "stdout",
     "output_type": "stream",
     "text": [
      "\n",
      "**********************************************************************************\n",
      "* Extra Trees Classifier w/ Label Encoder + Imputer + Select Columns Transformer *\n",
      "**********************************************************************************\n",
      "\n",
      "Problem Type: binary\n",
      "Model Family: Extra Trees\n",
      "\n",
      "Pipeline Steps\n",
      "==============\n",
      "1. Label Encoder\n",
      "\t * positive_label : None\n",
      "2. Imputer\n",
      "\t * categorical_impute_strategy : most_frequent\n",
      "\t * numeric_impute_strategy : mean\n",
      "\t * boolean_impute_strategy : most_frequent\n",
      "\t * categorical_fill_value : None\n",
      "\t * numeric_fill_value : None\n",
      "\t * boolean_fill_value : None\n",
      "3. Select Columns Transformer\n",
      "\t * columns : ['age', 'cp', 'thalachh', 'exng', 'oldpeak', 'caa', 'thall']\n",
      "4. Extra Trees Classifier\n",
      "\t * n_estimators : 100\n",
      "\t * max_features : auto\n",
      "\t * max_depth : 6\n",
      "\t * min_samples_split : 2\n",
      "\t * min_weight_fraction_leaf : 0.0\n",
      "\t * n_jobs : -1\n",
      "\n",
      "Training\n",
      "========\n",
      "Training for binary problems.\n",
      "Total training time (including CV): 0.5 seconds\n",
      "\n",
      "Cross Validation\n",
      "----------------\n",
      "             Log Loss Binary  MCC Binary  Gini   AUC  Precision    F1  Balanced Accuracy Binary  Accuracy Binary # Training # Validation\n",
      "0                      0.380       0.604 0.844 0.922      0.839 0.765                     0.795            0.802        161           81\n",
      "1                      0.424       0.580 0.776 0.888      0.833 0.746                     0.781            0.790        161           81\n",
      "2                      0.436       0.597 0.746 0.873      0.833 0.758                     0.790            0.800        162           80\n",
      "mean                   0.413       0.593 0.789 0.894      0.835 0.756                     0.789            0.798          -            -\n",
      "std                    0.030       0.012 0.050 0.025      0.003 0.009                     0.007            0.007          -            -\n",
      "coef of var            0.072       0.021 0.063 0.028      0.004 0.012                     0.009            0.008          -            -\n"
     ]
    }
   ],
   "source": [
    "automl.describe_pipeline(automl.rankings.iloc[0][\"id\"])"
   ]
  },
  {
   "cell_type": "code",
   "execution_count": 14,
   "id": "64e99bbd",
   "metadata": {},
   "outputs": [
    {
     "data": {
      "text/plain": [
       "OrderedDict([('AUC', 0.8701298701298702), ('F1', 0.7812499999999999)])"
      ]
     },
     "execution_count": 14,
     "metadata": {},
     "output_type": "execute_result"
    }
   ],
   "source": [
    "pipeline.score(X_test, y_test, objectives=[\"auc\", \"f1\"])"
   ]
  },
  {
   "cell_type": "code",
   "execution_count": 15,
   "id": "23beea67",
   "metadata": {},
   "outputs": [
    {
     "data": {
      "text/plain": [
       "{1: {'Random Forest Classifier w/ Label Encoder + Imputer': 0.5190188884735107,\n",
       "  'Total time of batch': 0.6314430236816406}}"
      ]
     },
     "execution_count": 15,
     "metadata": {},
     "output_type": "execute_result"
    }
   ],
   "source": [
    "automl_auc = AutoMLSearch(X_train=X_train, y_train=y_train, problem_type=\"binary\", objective=\"auc\", additional_objectives=[\"f1\", \"precision\"], max_batches=1, optimize_thresholds=True)\n",
    "automl_auc.search()"
   ]
  },
  {
   "cell_type": "code",
   "execution_count": 16,
   "id": "730ea5ca",
   "metadata": {},
   "outputs": [
    {
     "data": {
      "text/html": [
       "<div>\n",
       "<style scoped>\n",
       "    .dataframe tbody tr th:only-of-type {\n",
       "        vertical-align: middle;\n",
       "    }\n",
       "\n",
       "    .dataframe tbody tr th {\n",
       "        vertical-align: top;\n",
       "    }\n",
       "\n",
       "    .dataframe thead th {\n",
       "        text-align: right;\n",
       "    }\n",
       "</style>\n",
       "<table border=\"1\" class=\"dataframe\">\n",
       "  <thead>\n",
       "    <tr style=\"text-align: right;\">\n",
       "      <th></th>\n",
       "      <th>id</th>\n",
       "      <th>pipeline_name</th>\n",
       "      <th>search_order</th>\n",
       "      <th>ranking_score</th>\n",
       "      <th>mean_cv_score</th>\n",
       "      <th>standard_deviation_cv_score</th>\n",
       "      <th>percent_better_than_baseline</th>\n",
       "      <th>high_variance_cv</th>\n",
       "      <th>parameters</th>\n",
       "    </tr>\n",
       "  </thead>\n",
       "  <tbody>\n",
       "    <tr>\n",
       "      <th>0</th>\n",
       "      <td>1</td>\n",
       "      <td>Random Forest Classifier w/ Label Encoder + Im...</td>\n",
       "      <td>1</td>\n",
       "      <td>0.891494</td>\n",
       "      <td>0.891494</td>\n",
       "      <td>0.023837</td>\n",
       "      <td>39.149377</td>\n",
       "      <td>False</td>\n",
       "      <td>{'Label Encoder': {'positive_label': None}, 'I...</td>\n",
       "    </tr>\n",
       "    <tr>\n",
       "      <th>1</th>\n",
       "      <td>0</td>\n",
       "      <td>Mode Baseline Binary Classification Pipeline</td>\n",
       "      <td>0</td>\n",
       "      <td>0.500000</td>\n",
       "      <td>0.500000</td>\n",
       "      <td>0.000000</td>\n",
       "      <td>0.000000</td>\n",
       "      <td>False</td>\n",
       "      <td>{'Label Encoder': {'positive_label': None}, 'B...</td>\n",
       "    </tr>\n",
       "  </tbody>\n",
       "</table>\n",
       "</div>"
      ],
      "text/plain": [
       "   id                                      pipeline_name  search_order  \\\n",
       "0   1  Random Forest Classifier w/ Label Encoder + Im...             1   \n",
       "1   0       Mode Baseline Binary Classification Pipeline             0   \n",
       "\n",
       "   ranking_score  mean_cv_score  standard_deviation_cv_score  \\\n",
       "0       0.891494       0.891494                     0.023837   \n",
       "1       0.500000       0.500000                     0.000000   \n",
       "\n",
       "   percent_better_than_baseline  high_variance_cv  \\\n",
       "0                     39.149377             False   \n",
       "1                      0.000000             False   \n",
       "\n",
       "                                          parameters  \n",
       "0  {'Label Encoder': {'positive_label': None}, 'I...  \n",
       "1  {'Label Encoder': {'positive_label': None}, 'B...  "
      ]
     },
     "execution_count": 16,
     "metadata": {},
     "output_type": "execute_result"
    }
   ],
   "source": [
    "automl_auc.rankings"
   ]
  },
  {
   "cell_type": "code",
   "execution_count": 17,
   "id": "79f16480",
   "metadata": {},
   "outputs": [
    {
     "name": "stdout",
     "output_type": "stream",
     "text": [
      "\n",
      "*******************************************************\n",
      "* Random Forest Classifier w/ Label Encoder + Imputer *\n",
      "*******************************************************\n",
      "\n",
      "Problem Type: binary\n",
      "Model Family: Random Forest\n",
      "\n",
      "Pipeline Steps\n",
      "==============\n",
      "1. Label Encoder\n",
      "\t * positive_label : None\n",
      "2. Imputer\n",
      "\t * categorical_impute_strategy : most_frequent\n",
      "\t * numeric_impute_strategy : mean\n",
      "\t * boolean_impute_strategy : most_frequent\n",
      "\t * categorical_fill_value : None\n",
      "\t * numeric_fill_value : None\n",
      "\t * boolean_fill_value : None\n",
      "3. Random Forest Classifier\n",
      "\t * n_estimators : 100\n",
      "\t * max_depth : 6\n",
      "\t * n_jobs : -1\n",
      "\n",
      "Training\n",
      "========\n",
      "Training for binary problems.\n",
      "Total training time (including CV): 0.5 seconds\n",
      "\n",
      "Cross Validation\n",
      "----------------\n",
      "              AUC    F1  Precision # Training # Validation\n",
      "0           0.911 0.833      0.857        161           81\n",
      "1           0.899 0.795      0.806        161           81\n",
      "2           0.865 0.698      0.815        162           80\n",
      "mean        0.891 0.775      0.826          -            -\n",
      "std         0.024 0.069      0.028          -            -\n",
      "coef of var 0.027 0.090      0.033          -            -\n"
     ]
    }
   ],
   "source": [
    "automl_auc.describe_pipeline(automl_auc.rankings.iloc[0][\"id\"])"
   ]
  },
  {
   "cell_type": "code",
   "execution_count": 18,
   "id": "2d08566d",
   "metadata": {},
   "outputs": [],
   "source": [
    "pipeline_auc = automl_auc.best_pipeline"
   ]
  },
  {
   "cell_type": "code",
   "execution_count": 19,
   "id": "5faea6ec",
   "metadata": {},
   "outputs": [
    {
     "data": {
      "text/plain": [
       "OrderedDict([('AUC', 0.9123376623376623)])"
      ]
     },
     "execution_count": 19,
     "metadata": {},
     "output_type": "execute_result"
    }
   ],
   "source": [
    "pipeline_auc.score(X_test, y_test, objectives=[\"auc\"])"
   ]
  },
  {
   "cell_type": "code",
   "execution_count": 20,
   "id": "32f8e44a",
   "metadata": {},
   "outputs": [],
   "source": [
    "pipeline.save(\"pipe.pkl\")"
   ]
  },
  {
   "cell_type": "code",
   "execution_count": 21,
   "id": "dbf90ae5",
   "metadata": {},
   "outputs": [],
   "source": [
    "model = automl.load(\"pipe.pkl\")"
   ]
  },
  {
   "cell_type": "code",
   "execution_count": 22,
   "id": "2e498553",
   "metadata": {},
   "outputs": [
    {
     "data": {
      "text/html": [
       "<div>\n",
       "<style scoped>\n",
       "    .dataframe tbody tr th:only-of-type {\n",
       "        vertical-align: middle;\n",
       "    }\n",
       "\n",
       "    .dataframe tbody tr th {\n",
       "        vertical-align: top;\n",
       "    }\n",
       "\n",
       "    .dataframe thead th {\n",
       "        text-align: right;\n",
       "    }\n",
       "</style>\n",
       "<table border=\"1\" class=\"dataframe\">\n",
       "  <thead>\n",
       "    <tr style=\"text-align: right;\">\n",
       "      <th></th>\n",
       "      <th>0</th>\n",
       "      <th>1</th>\n",
       "    </tr>\n",
       "  </thead>\n",
       "  <tbody>\n",
       "    <tr>\n",
       "      <th>24</th>\n",
       "      <td>0.476206</td>\n",
       "      <td>0.523794</td>\n",
       "    </tr>\n",
       "    <tr>\n",
       "      <th>67</th>\n",
       "      <td>0.111968</td>\n",
       "      <td>0.888032</td>\n",
       "    </tr>\n",
       "    <tr>\n",
       "      <th>13</th>\n",
       "      <td>0.292056</td>\n",
       "      <td>0.707944</td>\n",
       "    </tr>\n",
       "    <tr>\n",
       "      <th>112</th>\n",
       "      <td>0.384836</td>\n",
       "      <td>0.615164</td>\n",
       "    </tr>\n",
       "    <tr>\n",
       "      <th>80</th>\n",
       "      <td>0.045754</td>\n",
       "      <td>0.954246</td>\n",
       "    </tr>\n",
       "    <tr>\n",
       "      <th>...</th>\n",
       "      <td>...</td>\n",
       "      <td>...</td>\n",
       "    </tr>\n",
       "    <tr>\n",
       "      <th>160</th>\n",
       "      <td>0.131567</td>\n",
       "      <td>0.868433</td>\n",
       "    </tr>\n",
       "    <tr>\n",
       "      <th>234</th>\n",
       "      <td>0.596474</td>\n",
       "      <td>0.403526</td>\n",
       "    </tr>\n",
       "    <tr>\n",
       "      <th>110</th>\n",
       "      <td>0.655146</td>\n",
       "      <td>0.344854</td>\n",
       "    </tr>\n",
       "    <tr>\n",
       "      <th>190</th>\n",
       "      <td>0.892123</td>\n",
       "      <td>0.107877</td>\n",
       "    </tr>\n",
       "    <tr>\n",
       "      <th>253</th>\n",
       "      <td>0.858696</td>\n",
       "      <td>0.141304</td>\n",
       "    </tr>\n",
       "  </tbody>\n",
       "</table>\n",
       "<p>61 rows × 2 columns</p>\n",
       "</div>"
      ],
      "text/plain": [
       "            0         1\n",
       "24   0.476206  0.523794\n",
       "67   0.111968  0.888032\n",
       "13   0.292056  0.707944\n",
       "112  0.384836  0.615164\n",
       "80   0.045754  0.954246\n",
       "..        ...       ...\n",
       "160  0.131567  0.868433\n",
       "234  0.596474  0.403526\n",
       "110  0.655146  0.344854\n",
       "190  0.892123  0.107877\n",
       "253  0.858696  0.141304\n",
       "\n",
       "[61 rows x 2 columns]"
      ]
     },
     "execution_count": 22,
     "metadata": {},
     "output_type": "execute_result"
    }
   ],
   "source": [
    "model.predict_proba(X_test)"
   ]
  },
  {
   "cell_type": "code",
   "execution_count": null,
   "id": "a802683b",
   "metadata": {},
   "outputs": [],
   "source": []
  }
 ],
 "metadata": {
  "kernelspec": {
   "display_name": "Python 3 (ipykernel)",
   "language": "python",
   "name": "python3"
  },
  "language_info": {
   "codemirror_mode": {
    "name": "ipython",
    "version": 3
   },
   "file_extension": ".py",
   "mimetype": "text/x-python",
   "name": "python",
   "nbconvert_exporter": "python",
   "pygments_lexer": "ipython3",
   "version": "3.8.16"
  }
 },
 "nbformat": 4,
 "nbformat_minor": 5
}
